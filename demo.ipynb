{
 "cells": [
  {
   "cell_type": "code",
   "execution_count": 1,
   "id": "8f6bae98-909a-4c46-9815-fd1455cf99a8",
   "metadata": {},
   "outputs": [],
   "source": [
    "import icebergs\n",
    "import numpy as np\n",
    "import matplotlib.pyplot as plt\n",
    "from ipywidgets import interact"
   ]
  },
  {
   "cell_type": "code",
   "execution_count": 2,
   "id": "3abe6eac-2f70-4d27-8893-aadf460807eb",
   "metadata": {},
   "outputs": [
    {
     "name": "stdout",
     "output_type": "stream",
     "text": [
      "Polygon info:\n",
      "Number of vertices: 4\n",
      "Point2D vertex 1: x = 5.0, z = -10.0\n",
      "Point2D vertex 2: x = 5.0, z = 10.0\n",
      "Point2D vertex 3: x = -5.0, z = 10.0\n",
      "Point2D vertex 4: x = -5.0, z = -10.0\n",
      "Area: 200.0\n",
      "Centroid: x = 0.0 , z = 0.0\n",
      "Ix: 1666.6666666666667\n",
      "Iy: 8333.333333333334\n",
      "Iz: 6666.666666666667\n"
     ]
    }
   ],
   "source": [
    "rect = icebergs.Rectangle(10, 20)\n",
    "rect.display()"
   ]
  },
  {
   "cell_type": "code",
   "execution_count": 3,
   "id": "225ff416-f43e-4d3a-a5d7-c186b75200e9",
   "metadata": {},
   "outputs": [
    {
     "name": "stdout",
     "output_type": "stream",
     "text": [
      "8333.333333333332\n"
     ]
    }
   ],
   "source": [
    "def Iy_rectangle(H, eps, L=1.0, rho=1.0):\n",
    "    return (1./12.) * H**4 * eps * (1. + eps**2) * rho\n",
    "\n",
    "print(Iy_rectangle(20, 0.5))"
   ]
  },
  {
   "cell_type": "code",
   "execution_count": 4,
   "id": "3b1dedf3-21b7-4752-971f-09260baeee7a",
   "metadata": {},
   "outputs": [
    {
     "data": {
      "application/vnd.jupyter.widget-view+json": {
       "model_id": "ae87928bdce34276891f5705bf5abf97",
       "version_major": 2,
       "version_minor": 0
      },
      "text/plain": [
       "interactive(children=(FloatSlider(value=0.0, description='x', max=10.0, step=0.2), FloatSlider(value=0.0, desc…"
      ]
     },
     "metadata": {},
     "output_type": "display_data"
    }
   ],
   "source": [
    "@interact(x=(0, 10, 0.2), z=(-10, 0, 0.2), theta_deg=(0, 90, 1))\n",
    "def plot_iceberg(x=0.0, z=0.0, theta_deg=10.0):\n",
    "    theta = theta_deg * np.pi / 180\n",
    "    berg = icebergs.Iceberg2D(rect, x=x, z=z, theta=theta)\n",
    "    berg.plot_iceberg()"
   ]
  },
  {
   "cell_type": "code",
   "execution_count": 5,
   "id": "f5634021-3c17-4072-ae0e-d5ddceac943d",
   "metadata": {},
   "outputs": [],
   "source": [
    "timestep = 0.1\n",
    "gamma_u = 0.5\n",
    "gamma_w = 0.5\n",
    "gamma_omega = 0.5\n",
    "xwall = 0.0\n",
    "restitution = 0.5\n",
    "\n",
    "solver = icebergs.DynamicsSolver(timestep, gamma_u, gamma_w, gamma_omega, xwall, restitution)"
   ]
  },
  {
   "cell_type": "code",
   "execution_count": 21,
   "id": "1b51aa50-34a1-4287-94df-462f6f1a45b5",
   "metadata": {},
   "outputs": [],
   "source": [
    "theta_deg = 1.0\n",
    "theta = theta_deg * np.pi / 180\n",
    "berg = icebergs.Iceberg2D(rect, x=6, z=-8, theta=theta)"
   ]
  },
  {
   "cell_type": "code",
   "execution_count": 22,
   "id": "8e1df665-f266-4970-a488-6e4ef097ef4d",
   "metadata": {},
   "outputs": [
    {
     "ename": "TypeError",
     "evalue": "'int' object is not iterable",
     "output_type": "error",
     "traceback": [
      "\u001b[31m---------------------------------------------------------------------------\u001b[39m",
      "\u001b[31mTypeError\u001b[39m                                 Traceback (most recent call last)",
      "\u001b[36mCell\u001b[39m\u001b[36m \u001b[39m\u001b[32mIn[22]\u001b[39m\u001b[32m, line 2\u001b[39m\n\u001b[32m      1\u001b[39m n_chunks = \u001b[32m20\u001b[39m\n\u001b[32m----> \u001b[39m\u001b[32m2\u001b[39m \u001b[38;5;28;43;01mfor\u001b[39;49;00m\u001b[43m \u001b[49m\u001b[43m_\u001b[49m\u001b[43m \u001b[49m\u001b[38;5;129;43;01min\u001b[39;49;00m\u001b[43m \u001b[49m\u001b[43mn_chunks\u001b[49m\u001b[43m:\u001b[49m\n\u001b[32m      3\u001b[39m \u001b[43m    \u001b[49m\u001b[43mn_timesteps\u001b[49m\u001b[43m \u001b[49m\u001b[43m=\u001b[49m\u001b[43m \u001b[49m\u001b[32;43m10\u001b[39;49m\n\u001b[32m      4\u001b[39m \u001b[43m    \u001b[49m\u001b[43msolver\u001b[49m\u001b[43m.\u001b[49m\u001b[43msimulate\u001b[49m\u001b[43m(\u001b[49m\u001b[43mberg\u001b[49m\u001b[43m,\u001b[49m\u001b[43m \u001b[49m\u001b[43mn_timesteps\u001b[49m\u001b[43m,\u001b[49m\u001b[43m \u001b[49m\u001b[43mplot\u001b[49m\u001b[43m=\u001b[49m\u001b[38;5;28;43;01mTrue\u001b[39;49;00m\u001b[43m,\u001b[49m\u001b[43m \u001b[49m\u001b[43msaveplot\u001b[49m\u001b[43m=\u001b[49m\u001b[38;5;28;43;01mTrue\u001b[39;49;00m\u001b[43m)\u001b[49m\n",
      "\u001b[31mTypeError\u001b[39m: 'int' object is not iterable"
     ]
    }
   ],
   "source": [
    "n_chunks = 20\n",
    "for _ in range(n_chunks):\n",
    "    n_timesteps = 10\n",
    "    solver.simulate(berg, n_timesteps, plot=True, saveplot=True)"
   ]
  }
 ],
 "metadata": {
  "kernelspec": {
   "display_name": "Python 3 (ipykernel)",
   "language": "python",
   "name": "python3"
  },
  "language_info": {
   "codemirror_mode": {
    "name": "ipython",
    "version": 3
   },
   "file_extension": ".py",
   "mimetype": "text/x-python",
   "name": "python",
   "nbconvert_exporter": "python",
   "pygments_lexer": "ipython3",
   "version": "3.13.3"
  }
 },
 "nbformat": 4,
 "nbformat_minor": 5
}
