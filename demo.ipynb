{
 "cells": [
  {
   "cell_type": "markdown",
   "id": "bb7f6097-a917-4c33-82f9-53799dfcd65c",
   "metadata": {},
   "source": [
    "# iceberg demo\n",
    "\n",
    "This notebook demonstrates simple uses of the icebergs module."
   ]
  },
  {
   "cell_type": "code",
   "execution_count": null,
   "id": "d85860a7-79ef-4476-9a4f-af1d6c3bb0ff",
   "metadata": {},
   "outputs": [],
   "source": [
    "#########################################\n",
    "##                                     ##\n",
    "## This example is from the README     ##\n",
    "##                                     ##\n",
    "#########################################\n",
    "\n",
    "import icebergs\n",
    "import numpy as np\n",
    "\n",
    "def init_depth(rho_i, rho_w, H):\n",
    "    \"\"\"Returns an appropriate initial depth for the iceberg, based on hydrostatic balance\"\"\"\n",
    "    return (0.5 - (rho_i/rho_w)) * H\n",
    "\n",
    "# Initialise the iceberg shape (`rect`), and the iceberg (`berg`) itself.\n",
    "rect = icebergs.Rectangle(0.05, 0.1)\n",
    "berg = icebergs.Iceberg2D(rect)\n",
    "\n",
    "# Set the initial position and orientation of the iceberg.\n",
    "theta_deg = -1.0\n",
    "theta = theta_deg * np.pi / 180\n",
    "z_init = init_depth(berg.density_ice, berg.density_water, rect.b)\n",
    "berg.set_position(x=0.026, z=z_init, theta=theta)\n",
    "\n",
    "# Set model parameters\n",
    "timestep = 0.002  # The model time step\n",
    "gamma_u = 500.0     # The horizontal quadratic drag coefficient\n",
    "gamma_w = 500.    # The vertical quadratic drag coefficient\n",
    "gamma_omega = 5.  # The angular quadratic drag coefficient\n",
    "xwall = 0.0       # The horizontal location of the vertical wall\n",
    "restitution = 0.0 # The coefficient of restitution for iceberg-wall collisions\n",
    "\n",
    "# Configure the solver.\n",
    "# n_chunks * n_steps gives the total number of timesteps\n",
    "n_chunks = 300\n",
    "n_steps = 10\n",
    "solver = icebergs.DynamicsSolver(timestep, \n",
    "                                 gamma_u, \n",
    "                                 gamma_w, \n",
    "                                 gamma_omega, \n",
    "                                 xwall, \n",
    "                                 restitution, \n",
    "                                 n_chunks*n_steps)\n",
    "\n",
    "# Run the solver.\n",
    "# If plot=True, displays a plot after every `n_steps` timesteps, producing `n_chunks` plots.\n",
    "# If saveplot=True, saves these plots as PNG files to the ./plots/iceberg trajectory.\n",
    "for _ in range(n_chunks):    \n",
    "    solver.simulate(berg, n_steps, plot=False, saveplot=False)\n",
    "\n",
    "# Optional: plot the trajectory.\n",
    "# Produces separate plots of x, z, theta, u, w, and omega against time.\n",
    "solver.plot_trajectory()\n",
    "\n",
    "# Optional, convert the plots to a video\n",
    "# Required: otgraph, my plotting utilities package, available at https://github.com/oscarjtg/otgraph\n",
    "#import otgraph.video as vid\n",
    "#vid.pngs_to_mp4(\"./plots/iceberg\", \"./videos/iceberg\", fps=30)"
   ]
  },
  {
   "cell_type": "markdown",
   "id": "2ba7158f-8fa3-4651-a537-d13b817b43af",
   "metadata": {},
   "source": [
    "# Interactive example\n",
    "\n",
    "This example showcases the plotting utility of the Iceberg2D class"
   ]
  },
  {
   "cell_type": "code",
   "execution_count": null,
   "id": "934bd657-a4b6-47ae-800a-50b49ff9ab77",
   "metadata": {},
   "outputs": [],
   "source": [
    "from ipywidgets import interact\n",
    "rect = icebergs.Rectangle(10, 20)\n",
    "@interact(x=(0, 10, 0.2), z=(-10, 0, 0.2), theta_deg=(0, 90, 1))\n",
    "def plot_iceberg(x=0.0, z=0.0, theta_deg=10.0):\n",
    "    theta = theta_deg * np.pi / 180\n",
    "    berg = icebergs.Iceberg2D(rect, x=x, z=z, theta=theta)\n",
    "    berg.plot_iceberg()"
   ]
  },
  {
   "cell_type": "code",
   "execution_count": null,
   "id": "8f6bae98-909a-4c46-9815-fd1455cf99a8",
   "metadata": {},
   "outputs": [],
   "source": [
    "import icebergs\n",
    "import numpy as np\n",
    "import matplotlib.pyplot as plt\n",
    "from ipywidgets import interact"
   ]
  },
  {
   "cell_type": "code",
   "execution_count": null,
   "id": "3abe6eac-2f70-4d27-8893-aadf460807eb",
   "metadata": {},
   "outputs": [],
   "source": [
    "rect = icebergs.Rectangle(10, 20)\n",
    "rect.display()"
   ]
  },
  {
   "cell_type": "code",
   "execution_count": null,
   "id": "225ff416-f43e-4d3a-a5d7-c186b75200e9",
   "metadata": {},
   "outputs": [],
   "source": [
    "def Iy_rectangle(H, eps, L=1.0, rho=1.0):\n",
    "    return (1./12.) * H**4 * eps * (1. + eps**2) * rho\n",
    "\n",
    "print(Iy_rectangle(20, 0.5))"
   ]
  }
 ],
 "metadata": {
  "kernelspec": {
   "display_name": "Python 3 (ipykernel)",
   "language": "python",
   "name": "python3"
  },
  "language_info": {
   "codemirror_mode": {
    "name": "ipython",
    "version": 3
   },
   "file_extension": ".py",
   "mimetype": "text/x-python",
   "name": "python",
   "nbconvert_exporter": "python",
   "pygments_lexer": "ipython3",
   "version": "3.13.3"
  }
 },
 "nbformat": 4,
 "nbformat_minor": 5
}
